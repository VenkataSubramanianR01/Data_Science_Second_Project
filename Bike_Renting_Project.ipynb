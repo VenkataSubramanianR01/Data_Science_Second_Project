{
 "cells": [
  {
   "cell_type": "code",
   "execution_count": 1,
   "metadata": {},
   "outputs": [],
   "source": [
    "import os\n",
    "os.chdir(\"D:\\Data Science\\Second_Project\")"
   ]
  },
  {
   "cell_type": "code",
   "execution_count": 2,
   "metadata": {},
   "outputs": [],
   "source": [
    "import pandas as pd\n",
    "import numpy as py"
   ]
  },
  {
   "cell_type": "code",
   "execution_count": 27,
   "metadata": {},
   "outputs": [],
   "source": [
    "bike_data=pd.read_excel(\"bike_data.xlsx\")"
   ]
  },
  {
   "cell_type": "code",
   "execution_count": null,
   "metadata": {},
   "outputs": [],
   "source": [
    "#Import Missing values using KNN\n",
    "from fancyimpute import KNN\n",
    "bike_data=pd.DataFrame(KNN(k=3).complete(bike_data),columns=bike_data.columns)"
   ]
  },
  {
   "cell_type": "code",
   "execution_count": 28,
   "metadata": {},
   "outputs": [],
   "source": [
    "bike_data=pd.DataFrame(bike_data)"
   ]
  },
  {
   "cell_type": "code",
   "execution_count": 29,
   "metadata": {},
   "outputs": [
    {
     "data": {
      "text/plain": [
       "{'whiskers': [<matplotlib.lines.Line2D at 0x29028dddc88>,\n",
       "  <matplotlib.lines.Line2D at 0x29028ddde80>],\n",
       " 'caps': [<matplotlib.lines.Line2D at 0x29028de7cf8>,\n",
       "  <matplotlib.lines.Line2D at 0x29028de7eb8>],\n",
       " 'boxes': [<matplotlib.lines.Line2D at 0x29028ddd320>],\n",
       " 'medians': [<matplotlib.lines.Line2D at 0x29028dee710>],\n",
       " 'fliers': [<matplotlib.lines.Line2D at 0x29028deef28>],\n",
       " 'means': []}"
      ]
     },
     "execution_count": 29,
     "metadata": {},
     "output_type": "execute_result"
    },
    {
     "data": {
      "image/png": "[encoded data removed]",
      "text/plain": [
       "<matplotlib.figure.Figure at 0x29028ce3b70>"
      ]
     },
     "metadata": {},
     "output_type": "display_data"
    }
   ],
   "source": [
    "#Detecting Outliers\n",
    "import matplotlib.pyplot as plt\n",
    "plt.boxplot(bike_data['casual'])"
   ]
  },
  {
   "cell_type": "code",
   "execution_count": 6,
   "metadata": {},
   "outputs": [
    {
     "data": {
      "text/html": [
       "<div>\n",
       "<style scoped>\n",
       "    .dataframe tbody tr th:only-of-type {\n",
       "        vertical-align: middle;\n",
       "    }\n",
       "\n",
       "    .dataframe tbody tr th {\n",
       "        vertical-align: top;\n",
       "    }\n",
       "\n",
       "    .dataframe thead th {\n",
       "        text-align: right;\n",
       "    }\n",
       "</style>\n",
       "<table border=\"1\" class=\"dataframe\">\n",
       "  <thead>\n",
       "    <tr style=\"text-align: right;\">\n",
       "      <th></th>\n",
       "      <th>instant</th>\n",
       "      <th>dteday</th>\n",
       "      <th>season</th>\n",
       "      <th>yr</th>\n",
       "      <th>mnth</th>\n",
       "      <th>holiday</th>\n",
       "      <th>weekday</th>\n",
       "      <th>workingday</th>\n",
       "      <th>weathersit</th>\n",
       "      <th>temp</th>\n",
       "      <th>atemp</th>\n",
       "      <th>hum</th>\n",
       "      <th>windspeed</th>\n",
       "      <th>casual</th>\n",
       "      <th>registered</th>\n",
       "      <th>cnt</th>\n",
       "    </tr>\n",
       "  </thead>\n",
       "  <tbody>\n",
       "    <tr>\n",
       "      <th>0</th>\n",
       "      <td>1</td>\n",
       "      <td>2011-01-01</td>\n",
       "      <td>1</td>\n",
       "      <td>0</td>\n",
       "      <td>1</td>\n",
       "      <td>0</td>\n",
       "      <td>6</td>\n",
       "      <td>0</td>\n",
       "      <td>2</td>\n",
       "      <td>0.344167</td>\n",
       "      <td>0.363625</td>\n",
       "      <td>0.805833</td>\n",
       "      <td>0.160446</td>\n",
       "      <td>331</td>\n",
       "      <td>654</td>\n",
       "      <td>985</td>\n",
       "    </tr>\n",
       "    <tr>\n",
       "      <th>1</th>\n",
       "      <td>2</td>\n",
       "      <td>2011-01-02</td>\n",
       "      <td>1</td>\n",
       "      <td>0</td>\n",
       "      <td>1</td>\n",
       "      <td>0</td>\n",
       "      <td>0</td>\n",
       "      <td>0</td>\n",
       "      <td>2</td>\n",
       "      <td>0.363478</td>\n",
       "      <td>0.353739</td>\n",
       "      <td>0.696087</td>\n",
       "      <td>0.248539</td>\n",
       "      <td>131</td>\n",
       "      <td>670</td>\n",
       "      <td>801</td>\n",
       "    </tr>\n",
       "    <tr>\n",
       "      <th>2</th>\n",
       "      <td>3</td>\n",
       "      <td>2011-01-03</td>\n",
       "      <td>1</td>\n",
       "      <td>0</td>\n",
       "      <td>1</td>\n",
       "      <td>0</td>\n",
       "      <td>1</td>\n",
       "      <td>1</td>\n",
       "      <td>1</td>\n",
       "      <td>0.196364</td>\n",
       "      <td>0.189405</td>\n",
       "      <td>0.437273</td>\n",
       "      <td>0.248309</td>\n",
       "      <td>120</td>\n",
       "      <td>1229</td>\n",
       "      <td>1349</td>\n",
       "    </tr>\n",
       "    <tr>\n",
       "      <th>3</th>\n",
       "      <td>4</td>\n",
       "      <td>2011-01-04</td>\n",
       "      <td>1</td>\n",
       "      <td>0</td>\n",
       "      <td>1</td>\n",
       "      <td>0</td>\n",
       "      <td>2</td>\n",
       "      <td>1</td>\n",
       "      <td>1</td>\n",
       "      <td>0.200000</td>\n",
       "      <td>0.212122</td>\n",
       "      <td>0.590435</td>\n",
       "      <td>0.160296</td>\n",
       "      <td>108</td>\n",
       "      <td>1454</td>\n",
       "      <td>1562</td>\n",
       "    </tr>\n",
       "    <tr>\n",
       "      <th>4</th>\n",
       "      <td>5</td>\n",
       "      <td>2011-01-05</td>\n",
       "      <td>1</td>\n",
       "      <td>0</td>\n",
       "      <td>1</td>\n",
       "      <td>0</td>\n",
       "      <td>3</td>\n",
       "      <td>1</td>\n",
       "      <td>1</td>\n",
       "      <td>0.226957</td>\n",
       "      <td>0.229270</td>\n",
       "      <td>0.436957</td>\n",
       "      <td>0.186900</td>\n",
       "      <td>82</td>\n",
       "      <td>1518</td>\n",
       "      <td>1600</td>\n",
       "    </tr>\n",
       "  </tbody>\n",
       "</table>\n",
       "</div>"
      ],
      "text/plain": [
       "   instant     dteday  season  yr  mnth  holiday  weekday  workingday  \\\n",
       "0        1 2011-01-01       1   0     1        0        6           0   \n",
       "1        2 2011-01-02       1   0     1        0        0           0   \n",
       "2        3 2011-01-03       1   0     1        0        1           1   \n",
       "3        4 2011-01-04       1   0     1        0        2           1   \n",
       "4        5 2011-01-05       1   0     1        0        3           1   \n",
       "\n",
       "   weathersit      temp     atemp       hum  windspeed  casual  registered  \\\n",
       "0           2  0.344167  0.363625  0.805833   0.160446     331         654   \n",
       "1           2  0.363478  0.353739  0.696087   0.248539     131         670   \n",
       "2           1  0.196364  0.189405  0.437273   0.248309     120        1229   \n",
       "3           1  0.200000  0.212122  0.590435   0.160296     108        1454   \n",
       "4           1  0.226957  0.229270  0.436957   0.186900      82        1518   \n",
       "\n",
       "    cnt  \n",
       "0   985  \n",
       "1   801  \n",
       "2  1349  \n",
       "3  1562  \n",
       "4  1600  "
      ]
     },
     "execution_count": 6,
     "metadata": {},
     "output_type": "execute_result"
    }
   ],
   "source": [
    "bike_data.head(5)"
   ]
  },
  {
   "cell_type": "code",
   "execution_count": 30,
   "metadata": {},
   "outputs": [],
   "source": [
    "cnames=['hum','windspeed','casual']"
   ]
  },
  {
   "cell_type": "code",
   "execution_count": 31,
   "metadata": {},
   "outputs": [],
   "source": [
    "#Detect and delete outliers from data\n",
    "for i in cnames:\n",
    "    q75,q25=py.percentile(bike_data.loc[:,i],[75,25])\n",
    "    iqr=q75-q25\n",
    "    min_value = q25 - (iqr*1.5)\n",
    "    max_value = q75 + (iqr*1.5)\n",
    "    bike_data=bike_data.drop(bike_data[bike_data.loc[:,i]<min_value].index)\n",
    "    bike_data=bike_data.drop(bike_data[bike_data.loc[:,i]>max_value].index)"
   ]
  },
  {
   "cell_type": "code",
   "execution_count": 32,
   "metadata": {},
   "outputs": [],
   "source": [
    "bike_data=pd.read_excel(\"Outliers_removed_data.xlsx\")"
   ]
  },
  {
   "cell_type": "code",
   "execution_count": 33,
   "metadata": {},
   "outputs": [],
   "source": [
    "#Correlation Analysis\n",
    "df_numeric_variables=['instant','temp','atemp','hum','windspeed','casual','registered','cnt']"
   ]
  },
  {
   "cell_type": "code",
   "execution_count": 34,
   "metadata": {},
   "outputs": [
    {
     "data": {
      "text/plain": [
       "<matplotlib.axes._subplots.AxesSubplot at 0x29028e487b8>"
      ]
     },
     "execution_count": 34,
     "metadata": {},
     "output_type": "execute_result"
    },
    {
     "data": {
      "image/png": "[encoded data removed]",
      "text/plain": [
       "<matplotlib.figure.Figure at 0x29026861550>"
      ]
     },
     "metadata": {},
     "output_type": "display_data"
    }
   ],
   "source": [
    "import seaborn as sns\n",
    "df_corr=bike_data.loc[:,df_numeric_variables]\n",
    "#set height and width of the plot\n",
    "f, ax = plt.subplots(figsize=(7, 5))\n",
    "\n",
    "#Generate correlation matrix\n",
    "corr = df_corr.corr()\n",
    "\n",
    "#Plot using seaborn library\n",
    "sns.heatmap(corr, mask=py.zeros_like(corr, dtype=py.bool), cmap=sns.diverging_palette(220, 10, as_cmap=True),\n",
    "            square=True, ax=ax)"
   ]
  },
  {
   "cell_type": "code",
   "execution_count": 35,
   "metadata": {},
   "outputs": [],
   "source": [
    "#Dimension Reduction\n",
    "bike_data=bike_data.drop(['atemp','instant','windspeed','dteday'],axis=1)"
   ]
  },
  {
   "cell_type": "code",
   "execution_count": 36,
   "metadata": {},
   "outputs": [],
   "source": [
    "#Anova Testing\n",
    "#Save Categorical Variables\n",
    "cat_names=['season','yr','mnth','holiday','weekday','weathersit','workingday']"
   ]
  },
  {
   "cell_type": "code",
   "execution_count": 37,
   "metadata": {},
   "outputs": [
    {
     "name": "stdout",
     "output_type": "stream",
     "text": [
      "                sum_sq     df           F        PR(>F)\n",
      "season    4.517974e+08    1.0  143.967653  2.133997e-30\n",
      "Residual  2.287738e+09  729.0         NaN           NaN\n",
      "                sum_sq     df           F        PR(>F)\n",
      "yr        8.798289e+08    1.0  344.890586  2.483540e-63\n",
      "Residual  1.859706e+09  729.0         NaN           NaN\n",
      "                sum_sq     df          F        PR(>F)\n",
      "mnth      2.147445e+08    1.0  62.004625  1.243112e-14\n",
      "Residual  2.524791e+09  729.0        NaN           NaN\n",
      "                sum_sq     df         F    PR(>F)\n",
      "holiday   1.279749e+07    1.0  3.421441  0.064759\n",
      "Residual  2.726738e+09  729.0       NaN       NaN\n",
      "                sum_sq     df         F    PR(>F)\n",
      "weekday   1.246109e+07    1.0  3.331091  0.068391\n",
      "Residual  2.727074e+09  729.0       NaN       NaN\n",
      "                  sum_sq     df          F        PR(>F)\n",
      "weathersit  2.422888e+08    1.0  70.729298  2.150976e-16\n",
      "Residual    2.497247e+09  729.0        NaN           NaN\n",
      "                  sum_sq     df         F    PR(>F)\n",
      "workingday  1.024604e+07    1.0  2.736742  0.098495\n",
      "Residual    2.729289e+09  729.0       NaN       NaN\n"
     ]
    }
   ],
   "source": [
    "import statsmodels\n",
    "import statsmodels.api as sm\n",
    "from statsmodels.formula.api import ols\n",
    "\n",
    "mod=ols('cnt ~ season',data=bike_data).fit()\n",
    "aov_table=sm.stats.anova_lm(mod,typ=2)\n",
    "print(aov_table)\n",
    "\n",
    "mod=ols('cnt ~ yr',data=bike_data).fit()\n",
    "aov_table=sm.stats.anova_lm(mod,typ=2)\n",
    "print(aov_table)\n",
    "\n",
    "mod=ols('cnt ~ mnth',data=bike_data).fit()\n",
    "aov_table=sm.stats.anova_lm(mod,typ=2)\n",
    "print(aov_table)\n",
    "\n",
    "mod=ols('cnt ~ holiday',data=bike_data).fit()\n",
    "aov_table=sm.stats.anova_lm(mod,typ=2)\n",
    "print(aov_table)\n",
    "\n",
    "mod=ols('cnt ~ weekday',data=bike_data).fit()\n",
    "aov_table=sm.stats.anova_lm(mod,typ=2)\n",
    "print(aov_table)\n",
    "\n",
    "mod=ols('cnt ~ weathersit',data=bike_data).fit()\n",
    "aov_table=sm.stats.anova_lm(mod,typ=2)\n",
    "print(aov_table)\n",
    "\n",
    "mod=ols('cnt ~ workingday',data=bike_data).fit()\n",
    "aov_table=sm.stats.anova_lm(mod,typ=2)\n",
    "print(aov_table)"
   ]
  },
  {
   "cell_type": "code",
   "execution_count": 38,
   "metadata": {},
   "outputs": [],
   "source": [
    "bike_data=bike_data.drop(['holiday','weekday','workingday','season'],axis=1)"
   ]
  },
  {
   "cell_type": "code",
   "execution_count": 40,
   "metadata": {},
   "outputs": [],
   "source": [
    "bike_data.shape"
   ]
  },
  {
   "cell_type": "code",
   "execution_count": 19,
   "metadata": {},
   "outputs": [
    {
     "name": "stderr",
     "output_type": "stream",
     "text": [
      "C:\\Anaconda3\\lib\\site-packages\\sklearn\\cross_validation.py:41: DeprecationWarning: This module was deprecated in version 0.18 in favor of the model_selection module into which all the refactored classes and functions are moved. Also note that the interface of the new CV iterators are different from that of this module. This module will be removed in 0.20.\n",
      "  \"This module will be removed in 0.20.\", DeprecationWarning)\n"
     ]
    }
   ],
   "source": [
    "from sklearn.cross_validation import train_test_split"
   ]
  },
  {
   "cell_type": "code",
   "execution_count": 41,
   "metadata": {},
   "outputs": [],
   "source": [
    "train_data, test_data = train_test_split(bike_data, test_size=0.2)"
   ]
  },
  {
   "cell_type": "code",
   "execution_count": 43,
   "metadata": {},
   "outputs": [],
   "source": [
    "model = sm.OLS(train_data.iloc[:,7], train_data.iloc[:,0:7]).fit()"
   ]
  },
  {
   "cell_type": "code",
   "execution_count": 44,
   "metadata": {},
   "outputs": [
    {
     "data": {
      "text/html": [
       "<table class=\"simpletable\">\n",
       "<caption>OLS Regression Results</caption>\n",
       "<tr>\n",
       "  <th>Dep. Variable:</th>           <td>cnt</td>       <th>  R-squared:         </th> <td>   0.997</td> \n",
       "</tr>\n",
       "<tr>\n",
       "  <th>Model:</th>                   <td>OLS</td>       <th>  Adj. R-squared:    </th> <td>   0.997</td> \n",
       "</tr>\n",
       "<tr>\n",
       "  <th>Method:</th>             <td>Least Squares</td>  <th>  F-statistic:       </th> <td>2.766e+04</td>\n",
       "</tr>\n",
       "<tr>\n",
       "  <th>Date:</th>             <td>Fri, 18 Jan 2019</td> <th>  Prob (F-statistic):</th>  <td>  0.00</td>  \n",
       "</tr>\n",
       "<tr>\n",
       "  <th>Time:</th>                 <td>11:01:51</td>     <th>  Log-Likelihood:    </th> <td> -4095.9</td> \n",
       "</tr>\n",
       "<tr>\n",
       "  <th>No. Observations:</th>      <td>   584</td>      <th>  AIC:               </th> <td>   8206.</td> \n",
       "</tr>\n",
       "<tr>\n",
       "  <th>Df Residuals:</th>          <td>   577</td>      <th>  BIC:               </th> <td>   8236.</td> \n",
       "</tr>\n",
       "<tr>\n",
       "  <th>Df Model:</th>              <td>     7</td>      <th>                     </th>     <td> </td>    \n",
       "</tr>\n",
       "<tr>\n",
       "  <th>Covariance Type:</th>      <td>nonrobust</td>    <th>                     </th>     <td> </td>    \n",
       "</tr>\n",
       "</table>\n",
       "<table class=\"simpletable\">\n",
       "<tr>\n",
       "       <td></td>         <th>coef</th>     <th>std err</th>      <th>t</th>      <th>P>|t|</th>  <th>[0.025</th>    <th>0.975]</th>  \n",
       "</tr>\n",
       "<tr>\n",
       "  <th>yr</th>         <td>   92.7623</td> <td>   32.667</td> <td>    2.840</td> <td> 0.005</td> <td>   28.602</td> <td>  156.922</td>\n",
       "</tr>\n",
       "<tr>\n",
       "  <th>mnth</th>       <td>   -0.2029</td> <td>    3.634</td> <td>   -0.056</td> <td> 0.955</td> <td>   -7.341</td> <td>    6.935</td>\n",
       "</tr>\n",
       "<tr>\n",
       "  <th>weathersit</th> <td>   11.1680</td> <td>   28.815</td> <td>    0.388</td> <td> 0.698</td> <td>  -45.427</td> <td>   67.763</td>\n",
       "</tr>\n",
       "<tr>\n",
       "  <th>temp</th>       <td>   18.1351</td> <td>   97.664</td> <td>    0.186</td> <td> 0.853</td> <td> -173.684</td> <td>  209.955</td>\n",
       "</tr>\n",
       "<tr>\n",
       "  <th>hum</th>        <td>  -59.6068</td> <td>   90.288</td> <td>   -0.660</td> <td> 0.509</td> <td> -236.941</td> <td>  117.727</td>\n",
       "</tr>\n",
       "<tr>\n",
       "  <th>casual</th>     <td>    1.1709</td> <td>    0.028</td> <td>   42.152</td> <td> 0.000</td> <td>    1.116</td> <td>    1.225</td>\n",
       "</tr>\n",
       "<tr>\n",
       "  <th>registered</th> <td>    0.9739</td> <td>    0.012</td> <td>   78.608</td> <td> 0.000</td> <td>    0.950</td> <td>    0.998</td>\n",
       "</tr>\n",
       "</table>\n",
       "<table class=\"simpletable\">\n",
       "<tr>\n",
       "  <th>Omnibus:</th>       <td>492.361</td> <th>  Durbin-Watson:     </th> <td>   1.930</td>\n",
       "</tr>\n",
       "<tr>\n",
       "  <th>Prob(Omnibus):</th> <td> 0.000</td>  <th>  Jarque-Bera (JB):  </th> <td>8384.222</td>\n",
       "</tr>\n",
       "<tr>\n",
       "  <th>Skew:</th>          <td> 3.825</td>  <th>  Prob(JB):          </th> <td>    0.00</td>\n",
       "</tr>\n",
       "<tr>\n",
       "  <th>Kurtosis:</th>      <td>19.913</td>  <th>  Cond. No.          </th> <td>3.90e+04</td>\n",
       "</tr>\n",
       "</table><br/><br/>Warnings:<br/>[1] Standard Errors assume that the covariance matrix of the errors is correctly specified.<br/>[2] The condition number is large, 3.9e+04. This might indicate that there are<br/>strong multicollinearity or other numerical problems."
      ],
      "text/plain": [
       "<class 'statsmodels.iolib.summary.Summary'>\n",
       "\"\"\"\n",
       "                            OLS Regression Results                            \n",
       "==============================================================================\n",
       "Dep. Variable:                    cnt   R-squared:                       0.997\n",
       "Model:                            OLS   Adj. R-squared:                  0.997\n",
       "Method:                 Least Squares   F-statistic:                 2.766e+04\n",
       "Date:                Fri, 18 Jan 2019   Prob (F-statistic):               0.00\n",
       "Time:                        11:01:51   Log-Likelihood:                -4095.9\n",
       "No. Observations:                 584   AIC:                             8206.\n",
       "Df Residuals:                     577   BIC:                             8236.\n",
       "Df Model:                           7                                         \n",
       "Covariance Type:            nonrobust                                         \n",
       "==============================================================================\n",
       "                 coef    std err          t      P>|t|      [0.025      0.975]\n",
       "------------------------------------------------------------------------------\n",
       "yr            92.7623     32.667      2.840      0.005      28.602     156.922\n",
       "mnth          -0.2029      3.634     -0.056      0.955      -7.341       6.935\n",
       "weathersit    11.1680     28.815      0.388      0.698     -45.427      67.763\n",
       "temp          18.1351     97.664      0.186      0.853    -173.684     209.955\n",
       "hum          -59.6068     90.288     -0.660      0.509    -236.941     117.727\n",
       "casual         1.1709      0.028     42.152      0.000       1.116       1.225\n",
       "registered     0.9739      0.012     78.608      0.000       0.950       0.998\n",
       "==============================================================================\n",
       "Omnibus:                      492.361   Durbin-Watson:                   1.930\n",
       "Prob(Omnibus):                  0.000   Jarque-Bera (JB):             8384.222\n",
       "Skew:                           3.825   Prob(JB):                         0.00\n",
       "Kurtosis:                      19.913   Cond. No.                     3.90e+04\n",
       "==============================================================================\n",
       "\n",
       "Warnings:\n",
       "[1] Standard Errors assume that the covariance matrix of the errors is correctly specified.\n",
       "[2] The condition number is large, 3.9e+04. This might indicate that there are\n",
       "strong multicollinearity or other numerical problems.\n",
       "\"\"\""
      ]
     },
     "execution_count": 44,
     "metadata": {},
     "output_type": "execute_result"
    }
   ],
   "source": [
    "model.summary()"
   ]
  },
  {
   "cell_type": "code",
   "execution_count": 26,
   "metadata": {},
   "outputs": [
    {
     "name": "stderr",
     "output_type": "stream",
     "text": [
      "C:\\Anaconda3\\lib\\site-packages\\sklearn\\cross_validation.py:41: DeprecationWarning: This module was deprecated in version 0.18 in favor of the model_selection module into which all the refactored classes and functions are moved. Also note that the interface of the new CV iterators are different from that of this module. This module will be removed in 0.20.\n",
      "  \"This module will be removed in 0.20.\", DeprecationWarning)\n"
     ]
    }
   ],
   "source": [
    "#Decision Tree Algorithm\n",
    "from sklearn.cross_validation import train_test_split\n",
    "from sklearn.tree import DecisionTreeRegressor"
   ]
  },
  {
   "cell_type": "code",
   "execution_count": 45,
   "metadata": {},
   "outputs": [],
   "source": [
    "train,test=train_test_split(bike_data,test_size=0.2)"
   ]
  },
  {
   "cell_type": "code",
   "execution_count": 47,
   "metadata": {},
   "outputs": [],
   "source": [
    "#Decision Tree Model\n",
    "fit_DT = DecisionTreeRegressor(max_depth=2).fit(train.iloc[:,0:7], train.iloc[:,7])\n",
    "#Apply model on test data\n",
    "predictions_DT = fit_DT.predict(test.iloc[:,0:7])"
   ]
  },
  {
   "cell_type": "code",
   "execution_count": 48,
   "metadata": {},
   "outputs": [
    {
     "data": {
      "text/plain": [
       "array([ 4514.30392157,  4514.30392157,  6600.40837696,  3201.34722222,\n",
       "        4514.30392157,  4514.30392157,  6600.40837696,  6600.40837696,\n",
       "        6600.40837696,  6600.40837696,  6600.40837696,  6600.40837696,\n",
       "        6600.40837696,  4514.30392157,  6600.40837696,  1601.47863248,\n",
       "        4514.30392157,  6600.40837696,  1601.47863248,  6600.40837696,\n",
       "        1601.47863248,  3201.34722222,  4514.30392157,  6600.40837696,\n",
       "        4514.30392157,  1601.47863248,  3201.34722222,  4514.30392157,\n",
       "        4514.30392157,  6600.40837696,  6600.40837696,  4514.30392157,\n",
       "        4514.30392157,  3201.34722222,  4514.30392157,  4514.30392157,\n",
       "        4514.30392157,  3201.34722222,  4514.30392157,  6600.40837696,\n",
       "        1601.47863248,  6600.40837696,  6600.40837696,  4514.30392157,\n",
       "        1601.47863248,  3201.34722222,  4514.30392157,  6600.40837696,\n",
       "        6600.40837696,  4514.30392157,  4514.30392157,  3201.34722222,\n",
       "        4514.30392157,  6600.40837696,  6600.40837696,  3201.34722222,\n",
       "        6600.40837696,  4514.30392157,  3201.34722222,  3201.34722222,\n",
       "        4514.30392157,  6600.40837696,  4514.30392157,  4514.30392157,\n",
       "        3201.34722222,  6600.40837696,  6600.40837696,  1601.47863248,\n",
       "        6600.40837696,  1601.47863248,  4514.30392157,  3201.34722222,\n",
       "        1601.47863248,  4514.30392157,  6600.40837696,  6600.40837696,\n",
       "        1601.47863248,  3201.34722222,  6600.40837696,  1601.47863248,\n",
       "        4514.30392157,  4514.30392157,  3201.34722222,  6600.40837696,\n",
       "        4514.30392157,  6600.40837696,  6600.40837696,  6600.40837696,\n",
       "        4514.30392157,  4514.30392157,  1601.47863248,  4514.30392157,\n",
       "        4514.30392157,  4514.30392157,  4514.30392157,  3201.34722222,\n",
       "        1601.47863248,  4514.30392157,  4514.30392157,  6600.40837696,\n",
       "        4514.30392157,  6600.40837696,  4514.30392157,  6600.40837696,\n",
       "        3201.34722222,  4514.30392157,  4514.30392157,  1601.47863248,\n",
       "        3201.34722222,  6600.40837696,  4514.30392157,  6600.40837696,\n",
       "        1601.47863248,  4514.30392157,  4514.30392157,  4514.30392157,\n",
       "        1601.47863248,  1601.47863248,  4514.30392157,  6600.40837696,\n",
       "        1601.47863248,  3201.34722222,  6600.40837696,  4514.30392157,\n",
       "        6600.40837696,  6600.40837696,  4514.30392157,  6600.40837696,\n",
       "        6600.40837696,  1601.47863248,  6600.40837696,  6600.40837696,\n",
       "        6600.40837696,  3201.34722222,  6600.40837696,  4514.30392157,\n",
       "        6600.40837696,  6600.40837696,  4514.30392157,  4514.30392157,\n",
       "        4514.30392157,  4514.30392157,  1601.47863248,  3201.34722222,\n",
       "        3201.34722222,  4514.30392157,  4514.30392157])"
      ]
     },
     "execution_count": 48,
     "metadata": {},
     "output_type": "execute_result"
    }
   ],
   "source": [
    "predictions_DT"
   ]
  },
  {
   "cell_type": "code",
   "execution_count": 49,
   "metadata": {},
   "outputs": [],
   "source": [
    "#Error Metrics\n",
    "def MAPE(y_true,y_pred):\n",
    "    mape=py.mean(py.abs((y_true-y_pred)/y_true))\n",
    "    return mape"
   ]
  },
  {
   "cell_type": "code",
   "execution_count": 52,
   "metadata": {},
   "outputs": [
    {
     "data": {
      "text/plain": [
       "0.23239669230607973"
      ]
     },
     "execution_count": 52,
     "metadata": {},
     "output_type": "execute_result"
    }
   ],
   "source": [
    "MAPE(test.iloc[:,6],predictions_DT)"
   ]
  }
 ],
 "metadata": {
  "kernelspec": {
   "display_name": "Python 3",
   "language": "python",
   "name": "python3"
  },
  "language_info": {
   "codemirror_mode": {
    "name": "ipython",
    "version": 3
   },
   "file_extension": ".py",
   "mimetype": "text/x-python",
   "name": "python",
   "nbconvert_exporter": "python",
   "pygments_lexer": "ipython3",
   "version": "3.6.5"
  }
 },
 "nbformat": 4,
 "nbformat_minor": 2
}
